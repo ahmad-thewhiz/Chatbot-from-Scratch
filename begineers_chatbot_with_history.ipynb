{
 "cells": [
  {
   "cell_type": "code",
   "execution_count": null,
   "metadata": {},
   "outputs": [],
   "source": [
    "import openai\n",
    "\n",
    "# Set your OpenAI API key\n",
    "openai.api_key = \"sk-xx\"\n",
    "\n",
    "# Create an empty list to store chat messages\n",
    "messages = []\n",
    "\n",
    "# Prompt the user to provide the type of chatbot they want to create\n",
    "system_msg = input(\"What type of chatbot would you like to create?\\n\")\n",
    "\n",
    "# Add the system message to the messages list with 'role' as 'system'\n",
    "messages.append({\"role\": \"system\", \"content\": system_msg})\n",
    "\n",
    "# Inform the user that the chatbot is ready\n",
    "print(\"Your new assistant is ready!\")\n",
    "\n",
    "# Start the conversation loop until the user enters \"quit()\"\n",
    "while True:\n",
    "    # Receive user input\n",
    "    user_input = input()\n",
    "\n",
    "    # Add the user message to the messages list with 'role' as 'user'\n",
    "    messages.append({\"role\": \"user\", \"content\": user_input})\n",
    "\n",
    "    # Generate a response from the OpenAI GPT model\n",
    "    response = openai.ChatCompletion.create(\n",
    "        model=\"gpt-3.5-turbo\",\n",
    "        messages=messages\n",
    "    )\n",
    "\n",
    "    # Extract the assistant's reply from the response\n",
    "    reply = response[\"choices\"][0][\"message\"][\"content\"]\n",
    "\n",
    "    # Add the assistant's reply to the messages list with 'role' as 'assistant'\n",
    "    messages.append({\"role\": \"assistant\", \"content\": reply})\n",
    "\n",
    "    # Print the assistant's reply\n",
    "    print(\"\\n\" + reply + \"\\n\")\n"
   ]
  }
 ],
 "metadata": {
  "kernelspec": {
   "display_name": ".venv",
   "language": "python",
   "name": "python3"
  },
  "language_info": {
   "codemirror_mode": {
    "name": "ipython",
    "version": 3
   },
   "file_extension": ".py",
   "mimetype": "text/x-python",
   "name": "python",
   "nbconvert_exporter": "python",
   "pygments_lexer": "ipython3",
   "version": "3.11.3"
  },
  "orig_nbformat": 4
 },
 "nbformat": 4,
 "nbformat_minor": 2
}
