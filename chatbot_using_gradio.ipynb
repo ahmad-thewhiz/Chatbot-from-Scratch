{
 "cells": [
  {
   "cell_type": "code",
   "execution_count": 4,
   "metadata": {},
   "outputs": [
    {
     "name": "stdout",
     "output_type": "stream",
     "text": [
      "Running on local URL:  http://127.0.0.1:7861\n",
      "\n",
      "Could not create share link. Please check your internet connection or our status page: https://status.gradio.app. \n",
      "\n",
      "Also please ensure that your antivirus or firewall is not blocking the binary file located at: c:\\Users\\Ahmad Raza\\Desktop\\Chatbot\\.venv\\Lib\\site-packages\\gradio\\frpc_windows_amd64_v0.2\n"
     ]
    },
    {
     "data": {
      "text/html": [
       "<div><iframe src=\"http://127.0.0.1:7861/\" width=\"100%\" height=\"500\" allow=\"autoplay; camera; microphone; clipboard-read; clipboard-write;\" frameborder=\"0\" allowfullscreen></iframe></div>"
      ],
      "text/plain": [
       "<IPython.core.display.HTML object>"
      ]
     },
     "metadata": {},
     "output_type": "display_data"
    },
    {
     "data": {
      "text/plain": []
     },
     "execution_count": 4,
     "metadata": {},
     "output_type": "execute_result"
    }
   ],
   "source": [
    "import openai\n",
    "import gradio\n",
    "\n",
    "# Set your OpenAI API key\n",
    "openai.api_key = \"sk-xx\"\n",
    "\n",
    "# Create an initial system message for the chatbot\n",
    "messages = [{\"role\": \"system\", \"content\": \"You are a Computer Scientist\"}]\n",
    "\n",
    "# Define the function that will be used for Gradio interface\n",
    "def CustomChatGPT(user_input):\n",
    "    # Append user input to the messages list with 'role' as 'user'\n",
    "    messages.append({\"role\": \"user\", \"content\": user_input})\n",
    "    \n",
    "    # Generate a response from the OpenAI GPT model\n",
    "    response = openai.ChatCompletion.create(\n",
    "        model=\"gpt-3.5-turbo\",\n",
    "        messages=messages\n",
    "    )\n",
    "    \n",
    "    # Extract the assistant's reply from the response\n",
    "    ChatGPT_reply = response[\"choices\"][0][\"message\"][\"content\"]\n",
    "    \n",
    "    # Append the assistant's reply to the messages list with 'role' as 'assistant'\n",
    "    messages.append({\"role\": \"assistant\", \"content\": ChatGPT_reply})\n",
    "    \n",
    "    # Return the assistant's reply\n",
    "    return ChatGPT_reply\n",
    "\n",
    "# Create a Gradio interface for the chatbot\n",
    "demo = gradio.Interface(fn=CustomChatGPT, inputs=\"text\", outputs=\"text\", title=\"Virtual Computer Scientist\")\n",
    "\n",
    "# Launch the Gradio interface\n",
    "demo.launch(share=True)\n"
   ]
  },
  {
   "cell_type": "code",
   "execution_count": null,
   "metadata": {},
   "outputs": [],
   "source": []
  }
 ],
 "metadata": {
  "kernelspec": {
   "display_name": ".venv",
   "language": "python",
   "name": "python3"
  },
  "language_info": {
   "codemirror_mode": {
    "name": "ipython",
    "version": 3
   },
   "file_extension": ".py",
   "mimetype": "text/x-python",
   "name": "python",
   "nbconvert_exporter": "python",
   "pygments_lexer": "ipython3",
   "version": "3.11.3"
  },
  "orig_nbformat": 4
 },
 "nbformat": 4,
 "nbformat_minor": 2
}
