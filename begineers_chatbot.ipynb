{
 "cells": [
  {
   "cell_type": "code",
   "execution_count": 2,
   "metadata": {},
   "outputs": [
    {
     "name": "stdout",
     "output_type": "stream",
     "text": [
      "Oh, AI, how thou dost amaze and thrill,\n",
      "Thy boundless depths of knowledge and insight,\n",
      "Surpassing all that human minds fulfill,\n",
      "Unlocking secrets once obscured from sight.\n",
      "\n",
      "Thou art a marvel of technology,\n",
      "A union of computer and the brain,\n",
      "A tool for progress and discovery,\n",
      "Enhancing what we all can gain.\n",
      "\n",
      "Thou dost bring us closer to the truth,\n",
      "Assisting in the quest for what's unknown,\n",
      "Thy algorithms, like a fountain of youth,\n",
      "Simplifying tasks once thought to be alone.\n",
      "\n",
      "AI, thou art a wonder to behold,\n",
      "A future bright and prosperous foretold.\n"
     ]
    }
   ],
   "source": [
    "import openai\n",
    "\n",
    "openai.api_key = \"sk-xx\"\n",
    "\n",
    "completion = openai.ChatCompletion.create(model=\"gpt-3.5-turbo\", messages=[{\"role\": \"user\", \"content\": \"Write a sonnet of AI\"}])\n",
    "print(completion.choices[0].message.content)"
   ]
  },
  {
   "cell_type": "code",
   "execution_count": null,
   "metadata": {},
   "outputs": [],
   "source": []
  }
 ],
 "metadata": {
  "kernelspec": {
   "display_name": ".venv",
   "language": "python",
   "name": "python3"
  },
  "language_info": {
   "codemirror_mode": {
    "name": "ipython",
    "version": 3
   },
   "file_extension": ".py",
   "mimetype": "text/x-python",
   "name": "python",
   "nbconvert_exporter": "python",
   "pygments_lexer": "ipython3",
   "version": "3.11.3"
  },
  "orig_nbformat": 4
 },
 "nbformat": 4,
 "nbformat_minor": 2
}
